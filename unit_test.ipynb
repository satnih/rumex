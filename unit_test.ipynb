{
 "cells": [
  {
   "cell_type": "code",
   "execution_count": 5,
   "metadata": {},
   "outputs": [],
   "source": [
    "import torch\n",
    "import utils as ut\n",
    "import numpy as np\n",
    "import pandas as pd\n",
    "import torch.nn as nn\n",
    "from torch import optim\n",
    "from time import time\n",
    "import utils as ut\n",
    "from sklearn.metrics import accuracy_score, precision_score\n",
    "from sklearn.metrics import recall_score, f1_score, roc_auc_score\n",
    "from warnings import filterwarnings\n",
    "import torch.nn as nn\n",
    "import torchvision\n",
    "from torchvision import models\n",
    "from torchvision import transforms as T\n",
    "from torchvision.datasets import ImageFolder\n",
    "from torch.utils.data import Dataset, DataLoader\n",
    "import sklearn.metrics as sm\n",
    "filterwarnings('ignore')\n",
    "torch.manual_seed(0)\n",
    "device = torch.device(\"cpu\")"
   ]
  },
  {
   "cell_type": "code",
   "execution_count": 6,
   "metadata": {},
   "outputs": [],
   "source": [
    "base_dir = \"data/15m/256/\"\n",
    "# load pre-trained model\n",
    "model_name=\"mobilenet\"\n",
    "trainer = torch.load(\"results/trained_models/mobilenet_seed_0_256_trainer.pt\", map_location=device)\n",
    "model = ut.RumexNet(model_name)\n",
    "model.load_state_dict(trainer.model.state_dict())\n",
    "model.to(device)\n",
    "loss_fn = torch.nn.CrossEntropyLoss(reduction=\"none\")\n",
    "optimizer = torch.optim.Adam(model.parameters(), lr=1e-3)\n",
    "\n",
    "# load data\n",
    "dstr = ut.RumexDataset(base_dir+\"train/\")\n",
    "dste = ut.RumexDataset(base_dir+\"train/\")\n",
    "\n",
    "dltr = ut.train_loader(dstr, 16)\n",
    "dlte = ut.train_loader(dste, 16)\n",
    "del trainer"
   ]
  },
  {
   "cell_type": "code",
   "execution_count": 7,
   "metadata": {},
   "outputs": [
    {
     "output_type": "stream",
     "name": "stdout",
     "text": [
      "ep:0|loss_tr: 0.57618\n",
      "ep:1|loss_tr: 0.15973\n"
     ]
    }
   ],
   "source": [
    "for ep in np.arange(15):\n",
    "    model, optimizer, loss_tr = ut.train(model, optimizer, loss_fn, dltr, device)\n",
    "    print(f\"ep:{ep}|loss_tr: {loss_tr:.5f}\")"
   ]
  },
  {
   "cell_type": "code",
   "execution_count": null,
   "metadata": {},
   "outputs": [],
   "source": [
    "ep"
   ]
  },
  {
   "cell_type": "code",
   "execution_count": null,
   "metadata": {},
   "outputs": [],
   "source": [
    "loss_te, metrics_te = ut.test(model, loss_fn, dlte, device, make_metrics=True)"
   ]
  },
  {
   "cell_type": "code",
   "execution_count": null,
   "metadata": {},
   "outputs": [],
   "source": [
    "num_epochs=13\n",
    "bs = 16\n",
    "\n",
    "# dataset and data loader\n",
    "\n",
    "dstr = RumexDataset(train_dir)\n",
    "dsva = ut.RumexDataset(valid_dir)\n",
    "dste = ut.RumexDataset(test_dir)\n",
    "\n",
    "\n",
    "dltr = DataLoader(dstr, batch_size=bs, shuffle=True, num_workers=12)\n",
    "dlva = DataLoader(dsva, batch_size=bs, shuffle=True, num_workers=12)\n",
    "dlte = DataLoader(dste, batch_size=bs, shuffle=True, num_workers=12)\n",
    "\n",
    "model = RumexNet('resnet')\n",
    "loss_fn = torch.nn.CrossEntropyLoss(reduction=\"none\")\n",
    "optimizer = torch.optim.Adam(model.parameters(), lr=1e-3)\n",
    "model = model.to(device)"
   ]
  },
  {
   "cell_type": "code",
   "execution_count": null,
   "metadata": {},
   "outputs": [],
   "source": [
    "ds = torch.utils.data.ConcatDataset([dstr, dsva])\n",
    "dltr = DataLoader(dstr, batch_size=bs, shuffle=True, num_workers=12)\n",
    "for ep in np.arange(num_epochs):\n",
    "    model, optimizer, loss_tr = train(model, optimizer, loss_fn, dltr, device)\n",
    "    print(f\"ep:{ep}|loss_tr: {loss_tr:.5f}\")\n",
    "#     loss_va, metrics = test(model, loss_fn, dlva, device)\n",
    "#     print(f\"ep:{ep}|loss_tr: {loss_tr:.5f}|loss_va: {loss_va:.5f}\")"
   ]
  },
  {
   "cell_type": "code",
   "execution_count": null,
   "metadata": {},
   "outputs": [],
   "source": [
    "loss_te, metrics_te = test(model, loss_fn, dlte, device, make_metrics=True)"
   ]
  },
  {
   "cell_type": "code",
   "execution_count": null,
   "metadata": {},
   "outputs": [],
   "source": [
    "print(f\"loss_te: {loss_va:.5f}|acc:{metrics_te['acc']:.5f}\" +\n",
    "      f\"|auc:{metrics_te['auc']:.5f}|f1:{metrics_te['f1']:.5f}\" + \n",
    "      f\"|p1:{metrics_te['p1']:.5f}|r1:{metrics_te['r1']:.5f}\")"
   ]
  },
  {
   "cell_type": "code",
   "execution_count": null,
   "metadata": {},
   "outputs": [],
   "source": [
    "(len(dste) - np.sum(dste.rumex.targets))/len(dste)"
   ]
  },
  {
   "cell_type": "code",
   "execution_count": null,
   "metadata": {},
   "outputs": [],
   "source": []
  }
 ],
 "metadata": {
  "kernelspec": {
   "display_name": "Python 3.8.0 64-bit ('rumex': conda)",
   "language": "python",
   "name": "python38064bitrumexconda8a98a5c9275745e49c41ece6d251972e"
  },
  "language_info": {
   "codemirror_mode": {
    "name": "ipython",
    "version": 3
   },
   "file_extension": ".py",
   "mimetype": "text/x-python",
   "name": "python",
   "nbconvert_exporter": "python",
   "pygments_lexer": "ipython3",
   "version": "3.8.0-final"
  }
 },
 "nbformat": 4,
 "nbformat_minor": 4
}