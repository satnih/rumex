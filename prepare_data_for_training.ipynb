{
 "cells": [
  {
   "cell_type": "code",
   "execution_count": 1,
   "metadata": {},
   "outputs": [
    {
     "name": "stderr",
     "output_type": "stream",
     "text": [
      "In /u/21/hiremas1/unix/anaconda3/envs/rumex/lib/python3.8/site-packages/matplotlib/mpl-data/stylelib/_classic_test.mplstyle: \n",
      "The text.latex.preview rcparam was deprecated in Matplotlib 3.3 and will be removed two minor releases later.\n",
      "In /u/21/hiremas1/unix/anaconda3/envs/rumex/lib/python3.8/site-packages/matplotlib/mpl-data/stylelib/_classic_test.mplstyle: \n",
      "The mathtext.fallback_to_cm rcparam was deprecated in Matplotlib 3.3 and will be removed two minor releases later.\n",
      "In /u/21/hiremas1/unix/anaconda3/envs/rumex/lib/python3.8/site-packages/matplotlib/mpl-data/stylelib/_classic_test.mplstyle: Support for setting the 'mathtext.fallback_to_cm' rcParam is deprecated since 3.3 and will be removed two minor releases later; use 'mathtext.fallback : 'cm' instead.\n",
      "In /u/21/hiremas1/unix/anaconda3/envs/rumex/lib/python3.8/site-packages/matplotlib/mpl-data/stylelib/_classic_test.mplstyle: \n",
      "The validate_bool_maybe_none function was deprecated in Matplotlib 3.3 and will be removed two minor releases later.\n",
      "In /u/21/hiremas1/unix/anaconda3/envs/rumex/lib/python3.8/site-packages/matplotlib/mpl-data/stylelib/_classic_test.mplstyle: \n",
      "The savefig.jpeg_quality rcparam was deprecated in Matplotlib 3.3 and will be removed two minor releases later.\n",
      "In /u/21/hiremas1/unix/anaconda3/envs/rumex/lib/python3.8/site-packages/matplotlib/mpl-data/stylelib/_classic_test.mplstyle: \n",
      "The keymap.all_axes rcparam was deprecated in Matplotlib 3.3 and will be removed two minor releases later.\n",
      "In /u/21/hiremas1/unix/anaconda3/envs/rumex/lib/python3.8/site-packages/matplotlib/mpl-data/stylelib/_classic_test.mplstyle: \n",
      "The animation.avconv_path rcparam was deprecated in Matplotlib 3.3 and will be removed two minor releases later.\n",
      "In /u/21/hiremas1/unix/anaconda3/envs/rumex/lib/python3.8/site-packages/matplotlib/mpl-data/stylelib/_classic_test.mplstyle: \n",
      "The animation.avconv_args rcparam was deprecated in Matplotlib 3.3 and will be removed two minor releases later.\n"
     ]
    }
   ],
   "source": [
    "import os\n",
    "import glob\n",
    "import numpy as np\n",
    "from PIL import Image\n",
    "import skimage.io as skio\n",
    "import matplotlib.pyplot as plt\n",
    "from torchvision import transforms as T\n",
    "np.random.seed(0)\n",
    "base_dir = \"data/15m/256/\""
   ]
  },
  {
   "cell_type": "markdown",
   "metadata": {},
   "source": [
    "## Augment training data"
   ]
  },
  {
   "cell_type": "code",
   "execution_count": 6,
   "metadata": {},
   "outputs": [],
   "source": [
    "# transformations for augmentations\n",
    "blur2 = T.GaussianBlur(3, 3/3)\n",
    "transform = blur2"
   ]
  },
  {
   "cell_type": "code",
   "execution_count": 10,
   "metadata": {},
   "outputs": [
    {
     "name": "stdout",
     "output_type": "stream",
     "text": [
      "rumex\n",
      "files will be stored in data/15m/256/train_a1/rumex\n",
      "other\n",
      "files will be stored in data/15m/256/train_a1/other\n"
     ]
    }
   ],
   "source": [
    "# \n",
    "save=1\n",
    "data_split = 'train'\n",
    "suffix = '_a1'\n",
    "count = 0\n",
    "for label in [\"rumex\", \"other\"]:    \n",
    "    print(label)    \n",
    "    src = os.path.join(base_dir, data_split, label)\n",
    "    dst = os.path.join(base_dir, data_split+suffix, label)\n",
    "    print(f\"files will be stored in {dst}\")\n",
    "    if not os.path.exists(dst):\n",
    "        os.makedirs(dst)\n",
    "\n",
    "    files = glob.glob(src+'/*.png')\n",
    "    for i, f in enumerate(files):\n",
    "        patch_name = f.split('/')[-1].split('.')[0]\n",
    "        new_name = patch_name+suffix+'_'+str(i)\n",
    "        im = Image.open(f)\n",
    "        im1 = transform(im)\n",
    "        if save:\n",
    "            im1.save(os.path.join(dst, new_name+'.png'))\n",
    "    "
   ]
  },
  {
   "cell_type": "code",
   "execution_count": null,
   "metadata": {},
   "outputs": [],
   "source": []
  }
 ],
 "metadata": {
  "kernelspec": {
   "display_name": "Python 3.8.0 64-bit ('rumex': conda)",
   "language": "python",
   "name": "python38064bitrumexconda8a98a5c9275745e49c41ece6d251972e"
  },
  "language_info": {
   "codemirror_mode": {
    "name": "ipython",
    "version": 3
   },
   "file_extension": ".py",
   "mimetype": "text/x-python",
   "name": "python",
   "nbconvert_exporter": "python",
   "pygments_lexer": "ipython3",
   "version": "3.8.0"
  }
 },
 "nbformat": 4,
 "nbformat_minor": 4
}
