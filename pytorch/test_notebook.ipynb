{
 "cells": [
  {
   "cell_type": "code",
   "execution_count": 3,
   "metadata": {},
   "outputs": [
    {
     "name": "stdout",
     "output_type": "stream",
     "text": [
      "552 84 468\n"
     ]
    }
   ],
   "source": [
    "import torch\n",
    "import psutil\n",
    "import itertools\n",
    "import numpy as np\n",
    "import utils as ut\n",
    "import pandas as pd\n",
    "from time import time\n",
    "from torch import optim\n",
    "from pathlib import Path\n",
    "from skimage import io as skio\n",
    "import matplotlib.pyplot as plt\n",
    "from skimage.exposure import rescale_intensity\n",
    "from sklearn.metrics import roc_auc_score, recall_score\n",
    "from sklearn.metrics import accuracy_score, f1_score, precision_score\n",
    "device = torch.device(\"cpu\")\n",
    "\n",
    "result_dir = \"results/10m/\"\n",
    "data_dir = \"~/postdoc/rumex/data_patches_for_training/10m/256/test/\"\n",
    "\n",
    "# test dataset and data loader\n",
    "dste = ut.RumexDataset(data_dir, train_flag=False)\n",
    "dlte = ut.test_loader(dste, 64)\n",
    "# %% make predictions\n",
    "nte = len(dste)\n",
    "n1te = dste.rumex.targets.count(1)\n",
    "n0te = dste.rumex.targets.count(0)\n",
    "print(nte, n1te, n0te)"
   ]
  },
  {
   "cell_type": "code",
   "execution_count": 8,
   "metadata": {},
   "outputs": [
    {
     "name": "stdout",
     "output_type": "stream",
     "text": [
      "0.8478, 0.9167, 0.6462, 0.9130, 0.5000, 0.9390\n"
     ]
    }
   ],
   "source": [
    "model_name = \"densenet\"\n",
    "ckpt_dir = \"logs/triton/\"+model_name+\"/\"\n",
    "ckpt_dict = torch.load(ckpt_dir+\"best.pt\")\n",
    "\n",
    "# only useful for 10m dataset\n",
    "# temp = ckpt_dict['predictions']\n",
    "# pred_valid = {}\n",
    "# pred_valid[\"yva\"] = temp['yva'].detach().cpu().numpy()\n",
    "# pred_valid[\"yhatva\"] = temp['yhatva'].detach().cpu().numpy()\n",
    "# pred_valid[\"score1va\"] = temp['scoreva'].detach().cpu().numpy()\n",
    "# pred_valid[\"lossva\"] = temp['lossva'].detach().cpu().numpy()\n",
    "# df_valid = pd.DataFrame.from_dict(pred_valid)\n",
    "# df_valid.to_csv(result_dir + model_name+\"_valid_predictions.csv\")\n",
    "\n",
    "\n",
    "model = ut.RumexNet(model_name)\n",
    "model.load_state_dict(ckpt_dict[\"state_dict\"])\n",
    "model = model.to(device)\n",
    "\n",
    "yte = []\n",
    "score1te = []\n",
    "score0te = []\n",
    "losste = []\n",
    "yhatte = []\n",
    "fnamete = []\n",
    "loss_fn = torch.nn.CrossEntropyLoss(reduction=\"none\")\n",
    "for xteb, yteb, idb, fnameb in dlte:\n",
    "    xteb = xteb.to(device)\n",
    "    yteb = yteb.to(device)\n",
    "\n",
    "    # Forward pass\n",
    "    score_te_b = model(xteb)  # logits\n",
    "    loss_te_b = loss_fn(score_te_b, yteb)\n",
    "    _, yhat_te_b = torch.max(score_te_b, 1)\n",
    "\n",
    "    # book keeping at batch level\n",
    "    yte.append(yteb.detach().numpy().tolist())\n",
    "\n",
    "    score0te.append(score_te_b.detach().numpy()[:, 0].tolist())\n",
    "    score1te.append(score_te_b.detach().numpy()[:, 1].tolist())\n",
    "\n",
    "    losste.append(loss_te_b.detach().numpy().tolist())\n",
    "    yhatte.append(yhat_te_b.detach().numpy().tolist())\n",
    "    fnamete.append(list(fnameb))\n",
    "\n",
    "yte = list(pd.core.common.flatten(yte))\n",
    "score0te = list(pd.core.common.flatten(score0te))\n",
    "score1te = list(pd.core.common.flatten(score1te))\n",
    "losste = list(pd.core.common.flatten(losste))\n",
    "yhatte = list(pd.core.common.flatten(yhatte))\n",
    "fnamete = list(pd.core.common.flatten(fnamete))\n",
    "\n",
    "pred_test = {\"fname\": fnamete,\n",
    "             \"yte\": yte,\n",
    "             \"yhatte\": yhatte,\n",
    "             \"scorete0\": score0te,\n",
    "             \"scorete1\": score1te,\n",
    "             \"losste\": losste}\n",
    "\n",
    "df_test = pd.DataFrame.from_dict(pred_test)\n",
    "# df_test.to_csv(result_dir + model_name+\"_test_predictions.csv\")\n",
    "\n",
    "acc = accuracy_score(df_test.yte, df_test.yhatte)\n",
    "f1 = f1_score(df_test.yte, df_test.yhatte)\n",
    "pre = precision_score(df_test.yte, df_test.yhatte)\n",
    "recall = recall_score(df_test.yte, df_test.yhatte)\n",
    "auc = roc_auc_score(df_test.yte, df_test.scorete1)\n",
    "\n",
    "print(f\"{n0te/nte:.4f}, {acc:.4f}, {f1:.4f}, {pre:.4f}, {recall:.4f}, {auc:.4f}\")"
   ]
  },
  {
   "cell_type": "code",
   "execution_count": null,
   "metadata": {},
   "outputs": [],
   "source": [
    "nte, n1te, n0te"
   ]
  },
  {
   "cell_type": "code",
   "execution_count": null,
   "metadata": {},
   "outputs": [],
   "source": [
    "n0te/nte"
   ]
  },
  {
   "cell_type": "code",
   "execution_count": null,
   "metadata": {},
   "outputs": [],
   "source": []
  }
 ],
 "metadata": {
  "kernelspec": {
   "display_name": "Python 3",
   "language": "python",
   "name": "python3"
  },
  "language_info": {
   "codemirror_mode": {
    "name": "ipython",
    "version": 3
   },
   "file_extension": ".py",
   "mimetype": "text/x-python",
   "name": "python",
   "nbconvert_exporter": "python",
   "pygments_lexer": "ipython3",
   "version": "3.8.0"
  }
 },
 "nbformat": 4,
 "nbformat_minor": 4
}
