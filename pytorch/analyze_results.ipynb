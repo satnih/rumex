{
 "cells": [
  {
   "cell_type": "code",
   "execution_count": 2,
   "metadata": {},
   "outputs": [],
   "source": [
    "import torch\n",
    "import numpy as np\n",
    "import utils as ut\n",
    "import pandas as pd\n",
    "from torch import optim\n",
    "from skimage import io as skio\n",
    "import matplotlib.pyplot as plt\n",
    "from skimage.exposure import rescale_intensity\n",
    "from sklearn.metrics import roc_auc_score, recall_score\n",
    "from sklearn.metrics import accuracy_score, f1_score, precision_score\n",
    "device = torch.device(\"cuda\")\n",
    "test_dir = \"data/10m/256/test/\"\n",
    "results_dir = \"results/10m/from_triton/\""
   ]
  },
  {
   "cell_type": "code",
   "execution_count": 14,
   "metadata": {},
   "outputs": [
    {
     "name": "stdout",
     "output_type": "stream",
     "text": [
      "{'acc': 0.9384057971014492, 'f1': 0.7792207792207793, 'p1': 0.8571428571428571, 'r1': 0.7142857142857143, 'auc': 0.9251882376882377}\n",
      "13\n"
     ]
    }
   ],
   "source": [
    "model_name=\"resnet\"\n",
    "trainer=torch.load(results_dir+model_name+\"_trainer.pt\")\n",
    "print(trainer.metricste)\n",
    "print(trainer.best_ep)"
   ]
  },
  {
   "cell_type": "code",
   "execution_count": 16,
   "metadata": {},
   "outputs": [
    {
     "data": {
      "text/plain": [
       "array([[458,  10],\n",
       "       [ 24,  60]])"
      ]
     },
     "execution_count": 16,
     "metadata": {},
     "output_type": "execute_result"
    }
   ],
   "source": [
    "from sklearn.metrics import classification_report, confusion_matrix\n",
    "yte = trainer.yte.cpu().numpy()\n",
    "yhatte = trainer.yhatte.cpu().numpy()\n",
    "confusion_matrix(yte, yhatte)"
   ]
  },
  {
   "cell_type": "code",
   "execution_count": 22,
   "metadata": {},
   "outputs": [],
   "source": [
    "yte = trainer.yte.cpu().numpy()\n",
    "yhatte = trainer.yhatte.cpu().numpy()\n",
    "scorete = trainer.scorete.cpu().numpy()\n",
    "fname = trainer.fnamete\n",
    "preds = pd.DataFrame([])\n",
    "preds[\"fname\"]=fname\n",
    "preds[\"yte\"]=yte\n",
    "preds[\"yhatte\"]=yhatte\n",
    "preds[\"scorete0\"]=scorete[:, 0]\n",
    "preds[\"scorete1\"]=scorete[:, 1]"
   ]
  },
  {
   "cell_type": "code",
   "execution_count": 29,
   "metadata": {},
   "outputs": [
    {
     "data": {
      "text/html": [
       "<div>\n",
       "<style scoped>\n",
       "    .dataframe tbody tr th:only-of-type {\n",
       "        vertical-align: middle;\n",
       "    }\n",
       "\n",
       "    .dataframe tbody tr th {\n",
       "        vertical-align: top;\n",
       "    }\n",
       "\n",
       "    .dataframe thead th {\n",
       "        text-align: right;\n",
       "    }\n",
       "</style>\n",
       "<table border=\"1\" class=\"dataframe\">\n",
       "  <thead>\n",
       "    <tr style=\"text-align: right;\">\n",
       "      <th></th>\n",
       "      <th>fname</th>\n",
       "      <th>yte</th>\n",
       "      <th>yhatte</th>\n",
       "      <th>scorete0</th>\n",
       "      <th>scorete1</th>\n",
       "    </tr>\n",
       "  </thead>\n",
       "  <tbody>\n",
       "    <tr>\n",
       "      <th>48</th>\n",
       "      <td>patch_nw_699.png</td>\n",
       "      <td>1</td>\n",
       "      <td>0</td>\n",
       "      <td>4.810289</td>\n",
       "      <td>-4.449100</td>\n",
       "    </tr>\n",
       "    <tr>\n",
       "      <th>365</th>\n",
       "      <td>patch_se_52.png</td>\n",
       "      <td>1</td>\n",
       "      <td>0</td>\n",
       "      <td>4.234760</td>\n",
       "      <td>-4.014961</td>\n",
       "    </tr>\n",
       "    <tr>\n",
       "      <th>223</th>\n",
       "      <td>patch_nw_793.png</td>\n",
       "      <td>1</td>\n",
       "      <td>0</td>\n",
       "      <td>4.318395</td>\n",
       "      <td>-3.997161</td>\n",
       "    </tr>\n",
       "    <tr>\n",
       "      <th>528</th>\n",
       "      <td>patch_nw_606.png</td>\n",
       "      <td>1</td>\n",
       "      <td>0</td>\n",
       "      <td>4.219625</td>\n",
       "      <td>-3.957136</td>\n",
       "    </tr>\n",
       "    <tr>\n",
       "      <th>27</th>\n",
       "      <td>patch_nw_746.png</td>\n",
       "      <td>1</td>\n",
       "      <td>0</td>\n",
       "      <td>3.692879</td>\n",
       "      <td>-3.353435</td>\n",
       "    </tr>\n",
       "    <tr>\n",
       "      <th>69</th>\n",
       "      <td>patch_nw_565.png</td>\n",
       "      <td>1</td>\n",
       "      <td>0</td>\n",
       "      <td>3.477075</td>\n",
       "      <td>-3.278071</td>\n",
       "    </tr>\n",
       "    <tr>\n",
       "      <th>239</th>\n",
       "      <td>patch_nw_566.png</td>\n",
       "      <td>1</td>\n",
       "      <td>0</td>\n",
       "      <td>3.296336</td>\n",
       "      <td>-3.102961</td>\n",
       "    </tr>\n",
       "    <tr>\n",
       "      <th>152</th>\n",
       "      <td>patch_nw_564.png</td>\n",
       "      <td>1</td>\n",
       "      <td>0</td>\n",
       "      <td>3.221367</td>\n",
       "      <td>-2.965720</td>\n",
       "    </tr>\n",
       "    <tr>\n",
       "      <th>502</th>\n",
       "      <td>patch_se_306.png</td>\n",
       "      <td>1</td>\n",
       "      <td>0</td>\n",
       "      <td>2.848658</td>\n",
       "      <td>-2.705697</td>\n",
       "    </tr>\n",
       "    <tr>\n",
       "      <th>207</th>\n",
       "      <td>patch_nw_488.png</td>\n",
       "      <td>1</td>\n",
       "      <td>0</td>\n",
       "      <td>2.735156</td>\n",
       "      <td>-2.534649</td>\n",
       "    </tr>\n",
       "    <tr>\n",
       "      <th>232</th>\n",
       "      <td>patch_nw_591.png</td>\n",
       "      <td>1</td>\n",
       "      <td>0</td>\n",
       "      <td>2.581269</td>\n",
       "      <td>-2.396736</td>\n",
       "    </tr>\n",
       "    <tr>\n",
       "      <th>281</th>\n",
       "      <td>patch_nw_710.png</td>\n",
       "      <td>1</td>\n",
       "      <td>0</td>\n",
       "      <td>2.576302</td>\n",
       "      <td>-2.320065</td>\n",
       "    </tr>\n",
       "    <tr>\n",
       "      <th>167</th>\n",
       "      <td>patch_se_138.png</td>\n",
       "      <td>1</td>\n",
       "      <td>0</td>\n",
       "      <td>2.527719</td>\n",
       "      <td>-2.297611</td>\n",
       "    </tr>\n",
       "    <tr>\n",
       "      <th>243</th>\n",
       "      <td>patch_nw_720.png</td>\n",
       "      <td>1</td>\n",
       "      <td>0</td>\n",
       "      <td>2.485598</td>\n",
       "      <td>-2.239706</td>\n",
       "    </tr>\n",
       "    <tr>\n",
       "      <th>1</th>\n",
       "      <td>patch_nw_747.png</td>\n",
       "      <td>1</td>\n",
       "      <td>0</td>\n",
       "      <td>2.299491</td>\n",
       "      <td>-2.034842</td>\n",
       "    </tr>\n",
       "    <tr>\n",
       "      <th>327</th>\n",
       "      <td>patch_nw_757.png</td>\n",
       "      <td>1</td>\n",
       "      <td>0</td>\n",
       "      <td>2.274345</td>\n",
       "      <td>-1.994523</td>\n",
       "    </tr>\n",
       "    <tr>\n",
       "      <th>315</th>\n",
       "      <td>patch_se_346.png</td>\n",
       "      <td>1</td>\n",
       "      <td>0</td>\n",
       "      <td>1.983982</td>\n",
       "      <td>-1.852221</td>\n",
       "    </tr>\n",
       "    <tr>\n",
       "      <th>493</th>\n",
       "      <td>patch_nw_709.png</td>\n",
       "      <td>1</td>\n",
       "      <td>0</td>\n",
       "      <td>2.093352</td>\n",
       "      <td>-1.811634</td>\n",
       "    </tr>\n",
       "    <tr>\n",
       "      <th>355</th>\n",
       "      <td>patch_nw_704.png</td>\n",
       "      <td>1</td>\n",
       "      <td>0</td>\n",
       "      <td>1.326769</td>\n",
       "      <td>-1.104409</td>\n",
       "    </tr>\n",
       "    <tr>\n",
       "      <th>330</th>\n",
       "      <td>patch_nw_754.png</td>\n",
       "      <td>1</td>\n",
       "      <td>0</td>\n",
       "      <td>1.364848</td>\n",
       "      <td>-0.932264</td>\n",
       "    </tr>\n",
       "    <tr>\n",
       "      <th>424</th>\n",
       "      <td>patch_se_1.png</td>\n",
       "      <td>1</td>\n",
       "      <td>0</td>\n",
       "      <td>0.536225</td>\n",
       "      <td>-0.344079</td>\n",
       "    </tr>\n",
       "    <tr>\n",
       "      <th>368</th>\n",
       "      <td>patch_nw_794.png</td>\n",
       "      <td>1</td>\n",
       "      <td>0</td>\n",
       "      <td>0.450497</td>\n",
       "      <td>-0.180978</td>\n",
       "    </tr>\n",
       "    <tr>\n",
       "      <th>257</th>\n",
       "      <td>patch_nw_721.png</td>\n",
       "      <td>1</td>\n",
       "      <td>0</td>\n",
       "      <td>0.484439</td>\n",
       "      <td>-0.149142</td>\n",
       "    </tr>\n",
       "    <tr>\n",
       "      <th>129</th>\n",
       "      <td>patch_nw_784.png</td>\n",
       "      <td>1</td>\n",
       "      <td>0</td>\n",
       "      <td>0.371354</td>\n",
       "      <td>-0.144519</td>\n",
       "    </tr>\n",
       "  </tbody>\n",
       "</table>\n",
       "</div>"
      ],
      "text/plain": [
       "                fname  yte  yhatte  scorete0  scorete1\n",
       "48   patch_nw_699.png    1       0  4.810289 -4.449100\n",
       "365   patch_se_52.png    1       0  4.234760 -4.014961\n",
       "223  patch_nw_793.png    1       0  4.318395 -3.997161\n",
       "528  patch_nw_606.png    1       0  4.219625 -3.957136\n",
       "27   patch_nw_746.png    1       0  3.692879 -3.353435\n",
       "69   patch_nw_565.png    1       0  3.477075 -3.278071\n",
       "239  patch_nw_566.png    1       0  3.296336 -3.102961\n",
       "152  patch_nw_564.png    1       0  3.221367 -2.965720\n",
       "502  patch_se_306.png    1       0  2.848658 -2.705697\n",
       "207  patch_nw_488.png    1       0  2.735156 -2.534649\n",
       "232  patch_nw_591.png    1       0  2.581269 -2.396736\n",
       "281  patch_nw_710.png    1       0  2.576302 -2.320065\n",
       "167  patch_se_138.png    1       0  2.527719 -2.297611\n",
       "243  patch_nw_720.png    1       0  2.485598 -2.239706\n",
       "1    patch_nw_747.png    1       0  2.299491 -2.034842\n",
       "327  patch_nw_757.png    1       0  2.274345 -1.994523\n",
       "315  patch_se_346.png    1       0  1.983982 -1.852221\n",
       "493  patch_nw_709.png    1       0  2.093352 -1.811634\n",
       "355  patch_nw_704.png    1       0  1.326769 -1.104409\n",
       "330  patch_nw_754.png    1       0  1.364848 -0.932264\n",
       "424    patch_se_1.png    1       0  0.536225 -0.344079\n",
       "368  patch_nw_794.png    1       0  0.450497 -0.180978\n",
       "257  patch_nw_721.png    1       0  0.484439 -0.149142\n",
       "129  patch_nw_784.png    1       0  0.371354 -0.144519"
      ]
     },
     "execution_count": 29,
     "metadata": {},
     "output_type": "execute_result"
    }
   ],
   "source": [
    "fn = preds[(preds.yte==1) & (preds.yhatte==0)]\n",
    "fn.sort_values(\"scorete1\")"
   ]
  },
  {
   "cell_type": "code",
   "execution_count": 9,
   "metadata": {},
   "outputs": [
    {
     "name": "stdout",
     "output_type": "stream",
     "text": [
      "{'acc': 0.9365942028985508, 'f1': 0.7770700636942677, 'p1': 0.8356164383561644, 'r1': 0.7261904761904762, 'auc': 0.9289021164021164}\n",
      "15\n"
     ]
    }
   ],
   "source": [
    "model_name=\"resnext\"\n",
    "trainer=torch.load(results_dir+model_name+\"_trainer.pt\")\n",
    "print(trainer.metricste)\n",
    "print(trainer.best_ep)"
   ]
  },
  {
   "cell_type": "code",
   "execution_count": 10,
   "metadata": {},
   "outputs": [
    {
     "name": "stdout",
     "output_type": "stream",
     "text": [
      "{'acc': 0.9311594202898551, 'f1': 0.7764705882352941, 'p1': 0.7674418604651163, 'r1': 0.7857142857142857, 'auc': 0.9103072853072853}\n",
      "19\n"
     ]
    }
   ],
   "source": [
    "model_name=\"wide_resnet\"\n",
    "trainer=torch.load(results_dir+model_name+\"_trainer.pt\")\n",
    "print(trainer.metricste)\n",
    "print(trainer.best_ep)"
   ]
  },
  {
   "cell_type": "code",
   "execution_count": 11,
   "metadata": {},
   "outputs": [
    {
     "name": "stdout",
     "output_type": "stream",
     "text": [
      "{'acc': 0.9039855072463768, 'f1': 0.6131386861313869, 'p1': 0.7924528301886793, 'r1': 0.5, 'auc': 0.8006461131461131}\n",
      "15\n"
     ]
    }
   ],
   "source": [
    "model_name=\"mobilenet\"\n",
    "trainer=torch.load(results_dir+model_name+\"_trainer.pt\")\n",
    "print(trainer.metricste)\n",
    "print(trainer.best_ep)"
   ]
  },
  {
   "cell_type": "code",
   "execution_count": 12,
   "metadata": {},
   "outputs": [
    {
     "name": "stdout",
     "output_type": "stream",
     "text": [
      "{'acc': 0.9221014492753623, 'f1': 0.6993006993006992, 'p1': 0.847457627118644, 'r1': 0.5952380952380952, 'auc': 0.9227462352462352}\n",
      "13\n"
     ]
    }
   ],
   "source": [
    "model_name=\"densenet\"\n",
    "trainer=torch.load(results_dir+model_name+\"_trainer.pt\")\n",
    "print(trainer.metricste)\n",
    "print(trainer.best_ep)"
   ]
  },
  {
   "cell_type": "code",
   "execution_count": 13,
   "metadata": {},
   "outputs": [
    {
     "name": "stdout",
     "output_type": "stream",
     "text": [
      "{'acc': 0.9094202898550725, 'f1': 0.6794871794871795, 'p1': 0.7361111111111112, 'r1': 0.6309523809523809, 'auc': 0.8722781847781846}\n",
      "15\n"
     ]
    }
   ],
   "source": [
    "model_name=\"shufflenet\"\n",
    "trainer=torch.load(results_dir+model_name+\"_trainer.pt\")\n",
    "print(trainer.metricste)\n",
    "print(trainer.best_ep)"
   ]
  },
  {
   "cell_type": "code",
   "execution_count": 14,
   "metadata": {},
   "outputs": [
    {
     "data": {
      "text/plain": [
       "0.8478260869565217"
      ]
     },
     "execution_count": 14,
     "metadata": {},
     "output_type": "execute_result"
    }
   ],
   "source": [
    "sum(yte==0)/len(yte)"
   ]
  },
  {
   "cell_type": "code",
   "execution_count": 52,
   "metadata": {},
   "outputs": [
    {
     "data": {
      "text/html": [
       "<div>\n",
       "<style scoped>\n",
       "    .dataframe tbody tr th:only-of-type {\n",
       "        vertical-align: middle;\n",
       "    }\n",
       "\n",
       "    .dataframe tbody tr th {\n",
       "        vertical-align: top;\n",
       "    }\n",
       "\n",
       "    .dataframe thead th {\n",
       "        text-align: right;\n",
       "    }\n",
       "</style>\n",
       "<table border=\"1\" class=\"dataframe\">\n",
       "  <thead>\n",
       "    <tr style=\"text-align: right;\">\n",
       "      <th></th>\n",
       "      <th>fname</th>\n",
       "      <th>yhat</th>\n",
       "    </tr>\n",
       "  </thead>\n",
       "  <tbody>\n",
       "    <tr>\n",
       "      <th>0</th>\n",
       "      <td>patch_se_48.png</td>\n",
       "      <td>1</td>\n",
       "    </tr>\n",
       "    <tr>\n",
       "      <th>1</th>\n",
       "      <td>patch_se_103.png</td>\n",
       "      <td>0</td>\n",
       "    </tr>\n",
       "    <tr>\n",
       "      <th>2</th>\n",
       "      <td>patch_nw_686.png</td>\n",
       "      <td>0</td>\n",
       "    </tr>\n",
       "    <tr>\n",
       "      <th>3</th>\n",
       "      <td>patch_se_33.png</td>\n",
       "      <td>0</td>\n",
       "    </tr>\n",
       "    <tr>\n",
       "      <th>4</th>\n",
       "      <td>patch_nw_651.png</td>\n",
       "      <td>0</td>\n",
       "    </tr>\n",
       "  </tbody>\n",
       "</table>\n",
       "</div>"
      ],
      "text/plain": [
       "              fname  yhat\n",
       "0   patch_se_48.png     1\n",
       "1  patch_se_103.png     0\n",
       "2  patch_nw_686.png     0\n",
       "3   patch_se_33.png     0\n",
       "4  patch_nw_651.png     0"
      ]
     },
     "execution_count": 52,
     "metadata": {},
     "output_type": "execute_result"
    }
   ],
   "source": [
    "df.head()"
   ]
  },
  {
   "cell_type": "code",
   "execution_count": 29,
   "metadata": {},
   "outputs": [],
   "source": [
    "df1 = df.reset_index()"
   ]
  },
  {
   "cell_type": "code",
   "execution_count": 32,
   "metadata": {},
   "outputs": [],
   "source": [
    "df2 = df1.sort_values(\"fname\")"
   ]
  },
  {
   "cell_type": "code",
   "execution_count": 35,
   "metadata": {},
   "outputs": [],
   "source": [
    "df2.fname = df2.fname.apply(lambda x: x.split(\".\")[0].split(\"_\")[-1]+x)"
   ]
  },
  {
   "cell_type": "code",
   "execution_count": 37,
   "metadata": {},
   "outputs": [],
   "source": [
    "df2 = df2.sort_values(\"fname\")"
   ]
  },
  {
   "cell_type": "code",
   "execution_count": 68,
   "metadata": {},
   "outputs": [],
   "source": [
    "df_nw = pd.DataFrame(np.zeros((341, 2)))\n",
    "df_se = pd.DataFrame(np.zeros((211, 2)))\n",
    "df_nw.columns = [\"fnane\", \"yhat\"]\n",
    "df_se.columns = [\"fnane\", \"yhat\"]"
   ]
  },
  {
   "cell_type": "code",
   "execution_count": 71,
   "metadata": {},
   "outputs": [
    {
     "name": "stdout",
     "output_type": "stream",
     "text": [
      "48\n",
      "103\n",
      "686\n"
     ]
    },
    {
     "ename": "IndexError",
     "evalue": "single positional indexer is out-of-bounds",
     "output_type": "error",
     "traceback": [
      "\u001b[0;31m---------------------------------------------------------------------------\u001b[0m",
      "\u001b[0;31mIndexError\u001b[0m                                Traceback (most recent call last)",
      "\u001b[0;32m<ipython-input-71-d22a516206ed>\u001b[0m in \u001b[0;36m<module>\u001b[0;34m\u001b[0m\n\u001b[1;32m     12\u001b[0m     \u001b[0;32mif\u001b[0m \u001b[0mquadrant\u001b[0m \u001b[0;34m==\u001b[0m \u001b[0;34m\"nw\"\u001b[0m\u001b[0;34m:\u001b[0m\u001b[0;34m\u001b[0m\u001b[0;34m\u001b[0m\u001b[0m\n\u001b[1;32m     13\u001b[0m         \u001b[0mnw_count\u001b[0m \u001b[0;34m+=\u001b[0m \u001b[0;36m1\u001b[0m\u001b[0;34m\u001b[0m\u001b[0;34m\u001b[0m\u001b[0m\n\u001b[0;32m---> 14\u001b[0;31m         \u001b[0mdf_nw\u001b[0m\u001b[0;34m.\u001b[0m\u001b[0miloc\u001b[0m\u001b[0;34m[\u001b[0m\u001b[0mpatch_number\u001b[0m\u001b[0;34m,\u001b[0m \u001b[0;36m0\u001b[0m\u001b[0;34m]\u001b[0m \u001b[0;34m=\u001b[0m \u001b[0mpatch_number_str\u001b[0m\u001b[0;34m+\u001b[0m\u001b[0mrow\u001b[0m\u001b[0;34m.\u001b[0m\u001b[0mfname\u001b[0m\u001b[0;34m\u001b[0m\u001b[0;34m\u001b[0m\u001b[0m\n\u001b[0m\u001b[1;32m     15\u001b[0m         \u001b[0mdf_nw\u001b[0m\u001b[0;34m.\u001b[0m\u001b[0miloc\u001b[0m\u001b[0;34m[\u001b[0m\u001b[0mpatch_number\u001b[0m\u001b[0;34m,\u001b[0m \u001b[0;36m1\u001b[0m\u001b[0;34m]\u001b[0m \u001b[0;34m=\u001b[0m \u001b[0mrow\u001b[0m\u001b[0;34m.\u001b[0m\u001b[0myhat\u001b[0m\u001b[0;34m\u001b[0m\u001b[0;34m\u001b[0m\u001b[0m\n\u001b[1;32m     16\u001b[0m     \u001b[0;32melse\u001b[0m\u001b[0;34m:\u001b[0m\u001b[0;34m\u001b[0m\u001b[0;34m\u001b[0m\u001b[0m\n",
      "\u001b[0;32m~/anaconda3/envs/rumex/lib/python3.8/site-packages/pandas/core/indexing.py\u001b[0m in \u001b[0;36m__setitem__\u001b[0;34m(self, key, value)\u001b[0m\n\u001b[1;32m    668\u001b[0m         \u001b[0;32melse\u001b[0m\u001b[0;34m:\u001b[0m\u001b[0;34m\u001b[0m\u001b[0;34m\u001b[0m\u001b[0m\n\u001b[1;32m    669\u001b[0m             \u001b[0mkey\u001b[0m \u001b[0;34m=\u001b[0m \u001b[0mcom\u001b[0m\u001b[0;34m.\u001b[0m\u001b[0mapply_if_callable\u001b[0m\u001b[0;34m(\u001b[0m\u001b[0mkey\u001b[0m\u001b[0;34m,\u001b[0m \u001b[0mself\u001b[0m\u001b[0;34m.\u001b[0m\u001b[0mobj\u001b[0m\u001b[0;34m)\u001b[0m\u001b[0;34m\u001b[0m\u001b[0;34m\u001b[0m\u001b[0m\n\u001b[0;32m--> 670\u001b[0;31m         \u001b[0mindexer\u001b[0m \u001b[0;34m=\u001b[0m \u001b[0mself\u001b[0m\u001b[0;34m.\u001b[0m\u001b[0m_get_setitem_indexer\u001b[0m\u001b[0;34m(\u001b[0m\u001b[0mkey\u001b[0m\u001b[0;34m)\u001b[0m\u001b[0;34m\u001b[0m\u001b[0;34m\u001b[0m\u001b[0m\n\u001b[0m\u001b[1;32m    671\u001b[0m         \u001b[0mself\u001b[0m\u001b[0;34m.\u001b[0m\u001b[0m_setitem_with_indexer\u001b[0m\u001b[0;34m(\u001b[0m\u001b[0mindexer\u001b[0m\u001b[0;34m,\u001b[0m \u001b[0mvalue\u001b[0m\u001b[0;34m)\u001b[0m\u001b[0;34m\u001b[0m\u001b[0;34m\u001b[0m\u001b[0m\n\u001b[1;32m    672\u001b[0m \u001b[0;34m\u001b[0m\u001b[0m\n",
      "\u001b[0;32m~/anaconda3/envs/rumex/lib/python3.8/site-packages/pandas/core/indexing.py\u001b[0m in \u001b[0;36m_get_setitem_indexer\u001b[0;34m(self, key)\u001b[0m\n\u001b[1;32m    646\u001b[0m         \u001b[0;32mif\u001b[0m \u001b[0misinstance\u001b[0m\u001b[0;34m(\u001b[0m\u001b[0mkey\u001b[0m\u001b[0;34m,\u001b[0m \u001b[0mtuple\u001b[0m\u001b[0;34m)\u001b[0m\u001b[0;34m:\u001b[0m\u001b[0;34m\u001b[0m\u001b[0;34m\u001b[0m\u001b[0m\n\u001b[1;32m    647\u001b[0m             \u001b[0;32mtry\u001b[0m\u001b[0;34m:\u001b[0m\u001b[0;34m\u001b[0m\u001b[0;34m\u001b[0m\u001b[0m\n\u001b[0;32m--> 648\u001b[0;31m                 \u001b[0;32mreturn\u001b[0m \u001b[0mself\u001b[0m\u001b[0;34m.\u001b[0m\u001b[0m_convert_tuple\u001b[0m\u001b[0;34m(\u001b[0m\u001b[0mkey\u001b[0m\u001b[0;34m)\u001b[0m\u001b[0;34m\u001b[0m\u001b[0;34m\u001b[0m\u001b[0m\n\u001b[0m\u001b[1;32m    649\u001b[0m             \u001b[0;32mexcept\u001b[0m \u001b[0mIndexingError\u001b[0m\u001b[0;34m:\u001b[0m\u001b[0;34m\u001b[0m\u001b[0;34m\u001b[0m\u001b[0m\n\u001b[1;32m    650\u001b[0m                 \u001b[0;32mpass\u001b[0m\u001b[0;34m\u001b[0m\u001b[0;34m\u001b[0m\u001b[0m\n",
      "\u001b[0;32m~/anaconda3/envs/rumex/lib/python3.8/site-packages/pandas/core/indexing.py\u001b[0m in \u001b[0;36m_convert_tuple\u001b[0;34m(self, key)\u001b[0m\n\u001b[1;32m    731\u001b[0m                 \u001b[0;32mif\u001b[0m \u001b[0mi\u001b[0m \u001b[0;34m>=\u001b[0m \u001b[0mself\u001b[0m\u001b[0;34m.\u001b[0m\u001b[0mndim\u001b[0m\u001b[0;34m:\u001b[0m\u001b[0;34m\u001b[0m\u001b[0;34m\u001b[0m\u001b[0m\n\u001b[1;32m    732\u001b[0m                     \u001b[0;32mraise\u001b[0m \u001b[0mIndexingError\u001b[0m\u001b[0;34m(\u001b[0m\u001b[0;34m\"Too many indexers\"\u001b[0m\u001b[0;34m)\u001b[0m\u001b[0;34m\u001b[0m\u001b[0;34m\u001b[0m\u001b[0m\n\u001b[0;32m--> 733\u001b[0;31m                 \u001b[0midx\u001b[0m \u001b[0;34m=\u001b[0m \u001b[0mself\u001b[0m\u001b[0;34m.\u001b[0m\u001b[0m_convert_to_indexer\u001b[0m\u001b[0;34m(\u001b[0m\u001b[0mk\u001b[0m\u001b[0;34m,\u001b[0m \u001b[0maxis\u001b[0m\u001b[0;34m=\u001b[0m\u001b[0mi\u001b[0m\u001b[0;34m)\u001b[0m\u001b[0;34m\u001b[0m\u001b[0;34m\u001b[0m\u001b[0m\n\u001b[0m\u001b[1;32m    734\u001b[0m                 \u001b[0mkeyidx\u001b[0m\u001b[0;34m.\u001b[0m\u001b[0mappend\u001b[0m\u001b[0;34m(\u001b[0m\u001b[0midx\u001b[0m\u001b[0;34m)\u001b[0m\u001b[0;34m\u001b[0m\u001b[0;34m\u001b[0m\u001b[0m\n\u001b[1;32m    735\u001b[0m         \u001b[0;32mreturn\u001b[0m \u001b[0mtuple\u001b[0m\u001b[0;34m(\u001b[0m\u001b[0mkeyidx\u001b[0m\u001b[0;34m)\u001b[0m\u001b[0;34m\u001b[0m\u001b[0;34m\u001b[0m\u001b[0m\n",
      "\u001b[0;32m~/anaconda3/envs/rumex/lib/python3.8/site-packages/pandas/core/indexing.py\u001b[0m in \u001b[0;36m_convert_to_indexer\u001b[0;34m(self, obj, axis, raise_missing)\u001b[0m\n\u001b[1;32m   2153\u001b[0m \u001b[0;34m\u001b[0m\u001b[0m\n\u001b[1;32m   2154\u001b[0m         \u001b[0;32mtry\u001b[0m\u001b[0;34m:\u001b[0m\u001b[0;34m\u001b[0m\u001b[0;34m\u001b[0m\u001b[0m\n\u001b[0;32m-> 2155\u001b[0;31m             \u001b[0mself\u001b[0m\u001b[0;34m.\u001b[0m\u001b[0m_validate_key\u001b[0m\u001b[0;34m(\u001b[0m\u001b[0mobj\u001b[0m\u001b[0;34m,\u001b[0m \u001b[0maxis\u001b[0m\u001b[0;34m)\u001b[0m\u001b[0;34m\u001b[0m\u001b[0;34m\u001b[0m\u001b[0m\n\u001b[0m\u001b[1;32m   2156\u001b[0m             \u001b[0;32mreturn\u001b[0m \u001b[0mobj\u001b[0m\u001b[0;34m\u001b[0m\u001b[0;34m\u001b[0m\u001b[0m\n\u001b[1;32m   2157\u001b[0m         \u001b[0;32mexcept\u001b[0m \u001b[0mValueError\u001b[0m\u001b[0;34m:\u001b[0m\u001b[0;34m\u001b[0m\u001b[0;34m\u001b[0m\u001b[0m\n",
      "\u001b[0;32m~/anaconda3/envs/rumex/lib/python3.8/site-packages/pandas/core/indexing.py\u001b[0m in \u001b[0;36m_validate_key\u001b[0;34m(self, key, axis)\u001b[0m\n\u001b[1;32m   1992\u001b[0m             \u001b[0;32mreturn\u001b[0m\u001b[0;34m\u001b[0m\u001b[0;34m\u001b[0m\u001b[0m\n\u001b[1;32m   1993\u001b[0m         \u001b[0;32melif\u001b[0m \u001b[0mis_integer\u001b[0m\u001b[0;34m(\u001b[0m\u001b[0mkey\u001b[0m\u001b[0;34m)\u001b[0m\u001b[0;34m:\u001b[0m\u001b[0;34m\u001b[0m\u001b[0;34m\u001b[0m\u001b[0m\n\u001b[0;32m-> 1994\u001b[0;31m             \u001b[0mself\u001b[0m\u001b[0;34m.\u001b[0m\u001b[0m_validate_integer\u001b[0m\u001b[0;34m(\u001b[0m\u001b[0mkey\u001b[0m\u001b[0;34m,\u001b[0m \u001b[0maxis\u001b[0m\u001b[0;34m)\u001b[0m\u001b[0;34m\u001b[0m\u001b[0;34m\u001b[0m\u001b[0m\n\u001b[0m\u001b[1;32m   1995\u001b[0m         \u001b[0;32melif\u001b[0m \u001b[0misinstance\u001b[0m\u001b[0;34m(\u001b[0m\u001b[0mkey\u001b[0m\u001b[0;34m,\u001b[0m \u001b[0mtuple\u001b[0m\u001b[0;34m)\u001b[0m\u001b[0;34m:\u001b[0m\u001b[0;34m\u001b[0m\u001b[0;34m\u001b[0m\u001b[0m\n\u001b[1;32m   1996\u001b[0m             \u001b[0;31m# a tuple should already have been caught by this point\u001b[0m\u001b[0;34m\u001b[0m\u001b[0;34m\u001b[0m\u001b[0;34m\u001b[0m\u001b[0m\n",
      "\u001b[0;32m~/anaconda3/envs/rumex/lib/python3.8/site-packages/pandas/core/indexing.py\u001b[0m in \u001b[0;36m_validate_integer\u001b[0;34m(self, key, axis)\u001b[0m\n\u001b[1;32m   2061\u001b[0m         \u001b[0mlen_axis\u001b[0m \u001b[0;34m=\u001b[0m \u001b[0mlen\u001b[0m\u001b[0;34m(\u001b[0m\u001b[0mself\u001b[0m\u001b[0;34m.\u001b[0m\u001b[0mobj\u001b[0m\u001b[0;34m.\u001b[0m\u001b[0m_get_axis\u001b[0m\u001b[0;34m(\u001b[0m\u001b[0maxis\u001b[0m\u001b[0;34m)\u001b[0m\u001b[0;34m)\u001b[0m\u001b[0;34m\u001b[0m\u001b[0;34m\u001b[0m\u001b[0m\n\u001b[1;32m   2062\u001b[0m         \u001b[0;32mif\u001b[0m \u001b[0mkey\u001b[0m \u001b[0;34m>=\u001b[0m \u001b[0mlen_axis\u001b[0m \u001b[0;32mor\u001b[0m \u001b[0mkey\u001b[0m \u001b[0;34m<\u001b[0m \u001b[0;34m-\u001b[0m\u001b[0mlen_axis\u001b[0m\u001b[0;34m:\u001b[0m\u001b[0;34m\u001b[0m\u001b[0;34m\u001b[0m\u001b[0m\n\u001b[0;32m-> 2063\u001b[0;31m             \u001b[0;32mraise\u001b[0m \u001b[0mIndexError\u001b[0m\u001b[0;34m(\u001b[0m\u001b[0;34m\"single positional indexer is out-of-bounds\"\u001b[0m\u001b[0;34m)\u001b[0m\u001b[0;34m\u001b[0m\u001b[0;34m\u001b[0m\u001b[0m\n\u001b[0m\u001b[1;32m   2064\u001b[0m \u001b[0;34m\u001b[0m\u001b[0m\n\u001b[1;32m   2065\u001b[0m     \u001b[0;32mdef\u001b[0m \u001b[0m_getitem_tuple\u001b[0m\u001b[0;34m(\u001b[0m\u001b[0mself\u001b[0m\u001b[0;34m,\u001b[0m \u001b[0mtup\u001b[0m\u001b[0;34m:\u001b[0m \u001b[0mTuple\u001b[0m\u001b[0;34m)\u001b[0m\u001b[0;34m:\u001b[0m\u001b[0;34m\u001b[0m\u001b[0;34m\u001b[0m\u001b[0m\n",
      "\u001b[0;31mIndexError\u001b[0m: single positional indexer is out-of-bounds"
     ]
    }
   ],
   "source": [
    "nw_count = 0\n",
    "se_count = 0 \n",
    "for _, row in df.iterrows():\n",
    "    patch_number = int(row.fname.split(\".\")[0].split(\"_\")[2])\n",
    "    print(patch_number)\n",
    "    if patch_number < 10:\n",
    "        patch_number_str = \"00\"+str(patch_number)\n",
    "    elif patch_number >= 10 and patch_number < 100:\n",
    "        patch_number_str = \"0\"+str(patch_number)\n",
    "    \n",
    "    quadrant = row.fname.split(\".\")[0].split(\"_\")[1]\n",
    "    if quadrant == \"nw\":\n",
    "        nw_count += 1\n",
    "        df_nw.iloc[patch_number, 0] = patch_number_str+row.fname\n",
    "        df_nw.iloc[patch_number, 1] = row.yhat\n",
    "    else:\n",
    "        se_count += 1\n",
    "        df_se.iloc[patch_number, 0] = patch_number_str+row.fname\n",
    "        df_se.iloc[patch_number, 1] = row.yhat\n"
   ]
  },
  {
   "cell_type": "code",
   "execution_count": 64,
   "metadata": {},
   "outputs": [
    {
     "data": {
      "text/plain": [
       "(341, 211)"
      ]
     },
     "execution_count": 64,
     "metadata": {},
     "output_type": "execute_result"
    }
   ],
   "source": [
    "nw_count, se_count"
   ]
  },
  {
   "cell_type": "code",
   "execution_count": 51,
   "metadata": {},
   "outputs": [
    {
     "data": {
      "text/html": [
       "<div>\n",
       "<style scoped>\n",
       "    .dataframe tbody tr th:only-of-type {\n",
       "        vertical-align: middle;\n",
       "    }\n",
       "\n",
       "    .dataframe tbody tr th {\n",
       "        vertical-align: top;\n",
       "    }\n",
       "\n",
       "    .dataframe thead th {\n",
       "        text-align: right;\n",
       "    }\n",
       "</style>\n",
       "<table border=\"1\" class=\"dataframe\">\n",
       "  <thead>\n",
       "    <tr style=\"text-align: right;\">\n",
       "      <th></th>\n",
       "      <th>fname</th>\n",
       "      <th>yhat</th>\n",
       "    </tr>\n",
       "  </thead>\n",
       "  <tbody>\n",
       "    <tr>\n",
       "      <th>0</th>\n",
       "      <td>hello</td>\n",
       "      <td>0.0</td>\n",
       "    </tr>\n",
       "    <tr>\n",
       "      <th>1</th>\n",
       "      <td>0</td>\n",
       "      <td>0.0</td>\n",
       "    </tr>\n",
       "    <tr>\n",
       "      <th>2</th>\n",
       "      <td>0</td>\n",
       "      <td>0.0</td>\n",
       "    </tr>\n",
       "  </tbody>\n",
       "</table>\n",
       "</div>"
      ],
      "text/plain": [
       "   fname  yhat\n",
       "0  hello   0.0\n",
       "1      0   0.0\n",
       "2      0   0.0"
      ]
     },
     "execution_count": 51,
     "metadata": {},
     "output_type": "execute_result"
    }
   ],
   "source": [
    "df3.head(3)"
   ]
  },
  {
   "cell_type": "code",
   "execution_count": 4,
   "metadata": {},
   "outputs": [
    {
     "data": {
      "text/plain": [
       "(10,\n",
       " {'acc': tensor(0.8752, device='cuda:0'),\n",
       "  'f1': tensor(0.8166, device='cuda:0'),\n",
       "  'pre': tensor(0.8539, device='cuda:0'),\n",
       "  'recall': tensor(0.7824, device='cuda:0'),\n",
       "  'auc': 0.9306720576106853})"
      ]
     },
     "execution_count": 4,
     "metadata": {},
     "output_type": "execute_result"
    }
   ],
   "source": [
    "model_name = \"mobilenet\"\n",
    "model_dir = \"logs/triton/\"+model_name+\"/\"\n",
    "ckpt_dict = torch.load(model_dir+\"best.pt\")\n",
    "ckpt_dict['ep'], ckpt_dict['metrics']"
   ]
  },
  {
   "cell_type": "code",
   "execution_count": 5,
   "metadata": {},
   "outputs": [
    {
     "data": {
      "text/plain": [
       "(12,\n",
       " {'acc': tensor(0.8098, device='cuda:0'),\n",
       "  'f1': tensor(0.6425, device='cuda:0'),\n",
       "  'pre': tensor(0.5251, device='cuda:0'),\n",
       "  'recall': tensor(0.8273, device='cuda:0'),\n",
       "  'auc': 0.8544646269587433})"
      ]
     },
     "execution_count": 5,
     "metadata": {},
     "output_type": "execute_result"
    }
   ],
   "source": [
    "model_name = \"shufflenet\"\n",
    "model_dir = \"logs/triton/\"+model_name+\"/\"\n",
    "ckpt_dict = torch.load(model_dir+\"best.pt\")\n",
    "ckpt_dict['ep'], ckpt_dict['metrics']"
   ]
  },
  {
   "cell_type": "code",
   "execution_count": 6,
   "metadata": {},
   "outputs": [
    {
     "data": {
      "text/plain": [
       "(0,\n",
       " {'acc': tensor(0.3670, device='cuda:0'),\n",
       "  'f1': tensor(0.5035, device='cuda:0'),\n",
       "  'pre': tensor(0.9863, device='cuda:0'),\n",
       "  'recall': tensor(0.3380, device='cuda:0'),\n",
       "  'auc': 0.633888520105405})"
      ]
     },
     "execution_count": 6,
     "metadata": {},
     "output_type": "execute_result"
    }
   ],
   "source": [
    "model_name = \"mnasnet\"\n",
    "model_dir = \"logs/triton/\"+model_name+\"/\"\n",
    "ckpt_dict = torch.load(model_dir+\"best.pt\")\n",
    "ckpt_dict['ep'], ckpt_dict['metrics']"
   ]
  },
  {
   "cell_type": "code",
   "execution_count": 7,
   "metadata": {},
   "outputs": [
    {
     "data": {
      "text/plain": [
       "(0,\n",
       " {'acc': tensor(0.8886, device='cuda:0'),\n",
       "  'f1': tensor(0.8031, device='cuda:0'),\n",
       "  'pre': tensor(0.6986, device='cuda:0'),\n",
       "  'recall': tensor(0.9444, device='cuda:0'),\n",
       "  'auc': 0.9234304910184459})"
      ]
     },
     "execution_count": 7,
     "metadata": {},
     "output_type": "execute_result"
    }
   ],
   "source": [
    "model_name = \"densenet\"\n",
    "model_dir = \"logs/triton/\"+model_name+\"/\"\n",
    "ckpt_dict = torch.load(model_dir+\"best.pt\")\n",
    "ckpt_dict['ep'], ckpt_dict['metrics']"
   ]
  },
  {
   "cell_type": "code",
   "execution_count": null,
   "metadata": {},
   "outputs": [],
   "source": []
  }
 ],
 "metadata": {
  "kernelspec": {
   "display_name": "Python 3",
   "language": "python",
   "name": "python3"
  },
  "language_info": {
   "codemirror_mode": {
    "name": "ipython",
    "version": 3
   },
   "file_extension": ".py",
   "mimetype": "text/x-python",
   "name": "python",
   "nbconvert_exporter": "python",
   "pygments_lexer": "ipython3",
   "version": "3.8.0"
  }
 },
 "nbformat": 4,
 "nbformat_minor": 4
}
