{
 "cells": [
  {
   "cell_type": "code",
   "execution_count": 1,
   "metadata": {},
   "outputs": [
    {
     "name": "stderr",
     "output_type": "stream",
     "text": [
      "\n",
      "Bad key \"text.kerning_factor\" on line 4 in\n",
      "/u/21/hiremas1/unix/anaconda3/envs/rumex/lib/python3.8/site-packages/matplotlib/mpl-data/stylelib/_classic_test_patch.mplstyle.\n",
      "You probably need to get an updated matplotlibrc file from\n",
      "https://github.com/matplotlib/matplotlib/blob/v3.1.3/matplotlibrc.template\n",
      "or from the matplotlib source distribution\n"
     ]
    }
   ],
   "source": [
    "import torch\n",
    "import numpy as np\n",
    "import utils as ut\n",
    "import pandas as pd\n",
    "from torch import optim\n",
    "from skimage import io as skio\n",
    "import matplotlib.pyplot as plt\n",
    "from skimage.exposure import rescale_intensity\n",
    "from sklearn.metrics import roc_auc_score, recall_score\n",
    "from sklearn.metrics import accuracy_score, f1_score, precision_score\n",
    "device = torch.device(\"cpu\")\n",
    "data_dir = \"~/postdoc/rumex/data256_for_training/\"\n"
   ]
  },
  {
   "cell_type": "code",
   "execution_count": 3,
   "metadata": {},
   "outputs": [
    {
     "data": {
      "text/plain": [
       "(40,\n",
       " {'acc': tensor(0.8782, device='cuda:0'),\n",
       "  'f1': tensor(0.8010, device='cuda:0'),\n",
       "  'pre': tensor(0.7534, device='cuda:0'),\n",
       "  'recall': tensor(0.8549, device='cuda:0'),\n",
       "  'auc': 0.9087361454750267})"
      ]
     },
     "execution_count": 3,
     "metadata": {},
     "output_type": "execute_result"
    }
   ],
   "source": [
    "model_name = \"resnet\"\n",
    "model_dir = \"logs/triton/\"+model_name+\"/\"\n",
    "ckpt_dict = torch.load(model_dir+\"best.pt\")\n",
    "ckpt_dict['ep'], ckpt_dict['metrics']"
   ]
  },
  {
   "cell_type": "code",
   "execution_count": 4,
   "metadata": {},
   "outputs": [
    {
     "data": {
      "text/plain": [
       "(10,\n",
       " {'acc': tensor(0.8752, device='cuda:0'),\n",
       "  'f1': tensor(0.8166, device='cuda:0'),\n",
       "  'pre': tensor(0.8539, device='cuda:0'),\n",
       "  'recall': tensor(0.7824, device='cuda:0'),\n",
       "  'auc': 0.9306720576106853})"
      ]
     },
     "execution_count": 4,
     "metadata": {},
     "output_type": "execute_result"
    }
   ],
   "source": [
    "model_name = \"mobilenet\"\n",
    "model_dir = \"logs/triton/\"+model_name+\"/\"\n",
    "ckpt_dict = torch.load(model_dir+\"best.pt\")\n",
    "ckpt_dict['ep'], ckpt_dict['metrics']"
   ]
  },
  {
   "cell_type": "code",
   "execution_count": 5,
   "metadata": {},
   "outputs": [
    {
     "data": {
      "text/plain": [
       "(12,\n",
       " {'acc': tensor(0.8098, device='cuda:0'),\n",
       "  'f1': tensor(0.6425, device='cuda:0'),\n",
       "  'pre': tensor(0.5251, device='cuda:0'),\n",
       "  'recall': tensor(0.8273, device='cuda:0'),\n",
       "  'auc': 0.8544646269587433})"
      ]
     },
     "execution_count": 5,
     "metadata": {},
     "output_type": "execute_result"
    }
   ],
   "source": [
    "model_name = \"shufflenet\"\n",
    "model_dir = \"logs/triton/\"+model_name+\"/\"\n",
    "ckpt_dict = torch.load(model_dir+\"best.pt\")\n",
    "ckpt_dict['ep'], ckpt_dict['metrics']"
   ]
  },
  {
   "cell_type": "code",
   "execution_count": 6,
   "metadata": {},
   "outputs": [
    {
     "data": {
      "text/plain": [
       "(0,\n",
       " {'acc': tensor(0.3670, device='cuda:0'),\n",
       "  'f1': tensor(0.5035, device='cuda:0'),\n",
       "  'pre': tensor(0.9863, device='cuda:0'),\n",
       "  'recall': tensor(0.3380, device='cuda:0'),\n",
       "  'auc': 0.633888520105405})"
      ]
     },
     "execution_count": 6,
     "metadata": {},
     "output_type": "execute_result"
    }
   ],
   "source": [
    "model_name = \"mnasnet\"\n",
    "model_dir = \"logs/triton/\"+model_name+\"/\"\n",
    "ckpt_dict = torch.load(model_dir+\"best.pt\")\n",
    "ckpt_dict['ep'], ckpt_dict['metrics']"
   ]
  },
  {
   "cell_type": "code",
   "execution_count": 7,
   "metadata": {},
   "outputs": [
    {
     "data": {
      "text/plain": [
       "(0,\n",
       " {'acc': tensor(0.8886, device='cuda:0'),\n",
       "  'f1': tensor(0.8031, device='cuda:0'),\n",
       "  'pre': tensor(0.6986, device='cuda:0'),\n",
       "  'recall': tensor(0.9444, device='cuda:0'),\n",
       "  'auc': 0.9234304910184459})"
      ]
     },
     "execution_count": 7,
     "metadata": {},
     "output_type": "execute_result"
    }
   ],
   "source": [
    "model_name = \"densenet\"\n",
    "model_dir = \"logs/triton/\"+model_name+\"/\"\n",
    "ckpt_dict = torch.load(model_dir+\"best.pt\")\n",
    "ckpt_dict['ep'], ckpt_dict['metrics']"
   ]
  },
  {
   "cell_type": "code",
   "execution_count": null,
   "metadata": {},
   "outputs": [],
   "source": []
  }
 ],
 "metadata": {
  "kernelspec": {
   "display_name": "Python 3",
   "language": "python",
   "name": "python3"
  },
  "language_info": {
   "codemirror_mode": {
    "name": "ipython",
    "version": 3
   },
   "file_extension": ".py",
   "mimetype": "text/x-python",
   "name": "python",
   "nbconvert_exporter": "python",
   "pygments_lexer": "ipython3",
   "version": "3.8.0"
  }
 },
 "nbformat": 4,
 "nbformat_minor": 4
}
